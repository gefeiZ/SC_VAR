{
 "cells": [
  {
   "cell_type": "markdown",
   "metadata": {},
   "source": [
    "# SC-VAR Usage\n",
    "\n",
    "single cell ATAC-seq data"
   ]
  },
  {
   "cell_type": "markdown",
   "metadata": {},
   "source": [
    "We assign noncoding SNPs to their target genes based on chromatin accessibility in disease-relevant tissues measured by single-cell ATAC sequence. \n",
    "Which can be used to find disease risk genes and pathways.\n",
    "\n",
    "And by calculating the single-cell chromatin accessibility disease score \n",
    "\n",
    "Users can infer cell types involved in complex traits and diseases using single-cell epigenomes.\n",
    "\n",
    "[ This branch does not rely on fine cell annotations and other Omics data. ]"
   ]
  },
  {
   "cell_type": "code",
   "execution_count": 2,
   "metadata": {},
   "outputs": [
    {
     "name": "stdout",
     "output_type": "stream",
     "text": [
      "Collecting sc-var\n",
      "  Using cached sc_var-1.2.2-py3-none-any.whl (10 kB)\n",
      "Requirement already satisfied: matplotlib<4.0.0,>=3.8.2 in ./anaconda3/envs/Bio/lib/python3.11/site-packages (from sc-var) (3.8.2)\n",
      "Requirement already satisfied: mygene<4.0.0,>=3.2.2 in ./anaconda3/envs/Bio/lib/python3.11/site-packages (from sc-var) (3.2.2)\n",
      "Requirement already satisfied: scanpy<2.0.0,>=1.9.6 in ./anaconda3/envs/Bio/lib/python3.11/site-packages (from sc-var) (1.9.6)\n",
      "Requirement already satisfied: scdrs<2.0.0,>=1.0.2 in ./anaconda3/envs/Bio/lib/python3.11/site-packages (from sc-var) (1.0.2)\n",
      "Requirement already satisfied: scipy<2.0.0,>=1.11.4 in ./anaconda3/envs/Bio/lib/python3.11/site-packages (from sc-var) (1.11.4)\n",
      "Requirement already satisfied: seaborn<0.14.0,>=0.13.1 in ./anaconda3/envs/Bio/lib/python3.11/site-packages (from sc-var) (0.13.1)\n",
      "Requirement already satisfied: contourpy>=1.0.1 in ./anaconda3/envs/Bio/lib/python3.11/site-packages (from matplotlib<4.0.0,>=3.8.2->sc-var) (1.2.0)\n",
      "Requirement already satisfied: cycler>=0.10 in ./anaconda3/envs/Bio/lib/python3.11/site-packages (from matplotlib<4.0.0,>=3.8.2->sc-var) (0.12.1)\n",
      "Requirement already satisfied: fonttools>=4.22.0 in ./anaconda3/envs/Bio/lib/python3.11/site-packages (from matplotlib<4.0.0,>=3.8.2->sc-var) (4.47.0)\n",
      "Requirement already satisfied: kiwisolver>=1.3.1 in ./anaconda3/envs/Bio/lib/python3.11/site-packages (from matplotlib<4.0.0,>=3.8.2->sc-var) (1.4.5)\n",
      "Requirement already satisfied: numpy<2,>=1.21 in ./anaconda3/envs/Bio/lib/python3.11/site-packages (from matplotlib<4.0.0,>=3.8.2->sc-var) (1.26.3)\n",
      "Requirement already satisfied: packaging>=20.0 in ./anaconda3/envs/Bio/lib/python3.11/site-packages (from matplotlib<4.0.0,>=3.8.2->sc-var) (23.2)\n",
      "Requirement already satisfied: pillow>=8 in ./anaconda3/envs/Bio/lib/python3.11/site-packages (from matplotlib<4.0.0,>=3.8.2->sc-var) (10.2.0)\n",
      "Requirement already satisfied: pyparsing>=2.3.1 in ./anaconda3/envs/Bio/lib/python3.11/site-packages (from matplotlib<4.0.0,>=3.8.2->sc-var) (3.1.1)\n",
      "Requirement already satisfied: python-dateutil>=2.7 in ./anaconda3/envs/Bio/lib/python3.11/site-packages (from matplotlib<4.0.0,>=3.8.2->sc-var) (2.8.2)\n",
      "Requirement already satisfied: biothings-client>=0.2.6 in ./anaconda3/envs/Bio/lib/python3.11/site-packages (from mygene<4.0.0,>=3.2.2->sc-var) (0.3.1)\n",
      "Requirement already satisfied: anndata>=0.7.4 in ./anaconda3/envs/Bio/lib/python3.11/site-packages (from scanpy<2.0.0,>=1.9.6->sc-var) (0.8.0)\n",
      "Requirement already satisfied: h5py>=3 in ./anaconda3/envs/Bio/lib/python3.11/site-packages (from scanpy<2.0.0,>=1.9.6->sc-var) (3.10.0)\n",
      "Requirement already satisfied: joblib in ./anaconda3/envs/Bio/lib/python3.11/site-packages (from scanpy<2.0.0,>=1.9.6->sc-var) (1.3.2)\n",
      "Requirement already satisfied: natsort in ./anaconda3/envs/Bio/lib/python3.11/site-packages (from scanpy<2.0.0,>=1.9.6->sc-var) (8.4.0)\n",
      "Requirement already satisfied: networkx>=2.3 in ./anaconda3/envs/Bio/lib/python3.11/site-packages (from scanpy<2.0.0,>=1.9.6->sc-var) (3.2.1)\n",
      "Requirement already satisfied: numba>=0.41.0 in ./anaconda3/envs/Bio/lib/python3.11/site-packages (from scanpy<2.0.0,>=1.9.6->sc-var) (0.58.1)\n",
      "Requirement already satisfied: pandas!=2.1.2,>=1.1.1 in ./anaconda3/envs/Bio/lib/python3.11/site-packages (from scanpy<2.0.0,>=1.9.6->sc-var) (2.1.4)\n",
      "Requirement already satisfied: patsy in ./anaconda3/envs/Bio/lib/python3.11/site-packages (from scanpy<2.0.0,>=1.9.6->sc-var) (0.5.5)\n",
      "Requirement already satisfied: scikit-learn>=0.24 in ./anaconda3/envs/Bio/lib/python3.11/site-packages (from scanpy<2.0.0,>=1.9.6->sc-var) (1.3.2)\n",
      "Requirement already satisfied: session-info in ./anaconda3/envs/Bio/lib/python3.11/site-packages (from scanpy<2.0.0,>=1.9.6->sc-var) (1.0.0)\n",
      "Requirement already satisfied: statsmodels>=0.10.0rc2 in ./anaconda3/envs/Bio/lib/python3.11/site-packages (from scanpy<2.0.0,>=1.9.6->sc-var) (0.14.1)\n",
      "Requirement already satisfied: tqdm in ./anaconda3/envs/Bio/lib/python3.11/site-packages (from scanpy<2.0.0,>=1.9.6->sc-var) (4.66.1)\n",
      "Requirement already satisfied: umap-learn>=0.3.10 in ./anaconda3/envs/Bio/lib/python3.11/site-packages (from scanpy<2.0.0,>=1.9.6->sc-var) (0.5.5)\n",
      "Requirement already satisfied: scikit-misc>=0.1.3 in ./anaconda3/envs/Bio/lib/python3.11/site-packages (from scdrs<2.0.0,>=1.0.2->sc-var) (0.3.1)\n",
      "Requirement already satisfied: fire>=0.4.0 in ./anaconda3/envs/Bio/lib/python3.11/site-packages (from scdrs<2.0.0,>=1.0.2->sc-var) (0.5.0)\n",
      "Requirement already satisfied: pytest>=6.2.0 in ./anaconda3/envs/Bio/lib/python3.11/site-packages (from scdrs<2.0.0,>=1.0.2->sc-var) (7.4.4)\n",
      "Requirement already satisfied: requests>=2.3.0 in ./anaconda3/envs/Bio/lib/python3.11/site-packages (from biothings-client>=0.2.6->mygene<4.0.0,>=3.2.2->sc-var) (2.31.0)\n",
      "Requirement already satisfied: six in ./anaconda3/envs/Bio/lib/python3.11/site-packages (from fire>=0.4.0->scdrs<2.0.0,>=1.0.2->sc-var) (1.16.0)\n",
      "Requirement already satisfied: termcolor in ./anaconda3/envs/Bio/lib/python3.11/site-packages (from fire>=0.4.0->scdrs<2.0.0,>=1.0.2->sc-var) (2.4.0)\n",
      "Requirement already satisfied: llvmlite<0.42,>=0.41.0dev0 in ./anaconda3/envs/Bio/lib/python3.11/site-packages (from numba>=0.41.0->scanpy<2.0.0,>=1.9.6->sc-var) (0.41.1)\n",
      "Requirement already satisfied: pytz>=2020.1 in ./anaconda3/envs/Bio/lib/python3.11/site-packages (from pandas!=2.1.2,>=1.1.1->scanpy<2.0.0,>=1.9.6->sc-var) (2023.3.post1)\n",
      "Requirement already satisfied: tzdata>=2022.1 in ./anaconda3/envs/Bio/lib/python3.11/site-packages (from pandas!=2.1.2,>=1.1.1->scanpy<2.0.0,>=1.9.6->sc-var) (2023.4)\n",
      "Requirement already satisfied: iniconfig in ./anaconda3/envs/Bio/lib/python3.11/site-packages (from pytest>=6.2.0->scdrs<2.0.0,>=1.0.2->sc-var) (2.0.0)\n",
      "Requirement already satisfied: pluggy<2.0,>=0.12 in ./anaconda3/envs/Bio/lib/python3.11/site-packages (from pytest>=6.2.0->scdrs<2.0.0,>=1.0.2->sc-var) (1.3.0)\n",
      "Requirement already satisfied: threadpoolctl>=2.0.0 in ./anaconda3/envs/Bio/lib/python3.11/site-packages (from scikit-learn>=0.24->scanpy<2.0.0,>=1.9.6->sc-var) (3.2.0)\n",
      "Requirement already satisfied: pynndescent>=0.5 in ./anaconda3/envs/Bio/lib/python3.11/site-packages (from umap-learn>=0.3.10->scanpy<2.0.0,>=1.9.6->sc-var) (0.5.11)\n",
      "Requirement already satisfied: stdlib-list in ./anaconda3/envs/Bio/lib/python3.11/site-packages (from session-info->scanpy<2.0.0,>=1.9.6->sc-var) (0.10.0)\n",
      "Requirement already satisfied: charset-normalizer<4,>=2 in ./anaconda3/envs/Bio/lib/python3.11/site-packages (from requests>=2.3.0->biothings-client>=0.2.6->mygene<4.0.0,>=3.2.2->sc-var) (3.3.2)\n",
      "Requirement already satisfied: idna<4,>=2.5 in ./anaconda3/envs/Bio/lib/python3.11/site-packages (from requests>=2.3.0->biothings-client>=0.2.6->mygene<4.0.0,>=3.2.2->sc-var) (3.6)\n",
      "Requirement already satisfied: urllib3<3,>=1.21.1 in ./anaconda3/envs/Bio/lib/python3.11/site-packages (from requests>=2.3.0->biothings-client>=0.2.6->mygene<4.0.0,>=3.2.2->sc-var) (2.1.0)\n",
      "Requirement already satisfied: certifi>=2017.4.17 in ./anaconda3/envs/Bio/lib/python3.11/site-packages (from requests>=2.3.0->biothings-client>=0.2.6->mygene<4.0.0,>=3.2.2->sc-var) (2023.11.17)\n",
      "Installing collected packages: sc-var\n",
      "Successfully installed sc-var-1.2.2\n"
     ]
    }
   ],
   "source": [
    "!pip install sc-var"
   ]
  },
  {
   "cell_type": "code",
   "execution_count": 3,
   "metadata": {},
   "outputs": [],
   "source": [
    "import scdrs\n",
    "import scanpy as sc\n",
    "from anndata import AnnData\n",
    "from anndata import read_h5ad\n",
    "from scipy import stats\n",
    "import pandas as pd\n",
    "import numpy as np\n",
    "import sc_var\n",
    "from sc_var import method as scv\n",
    "import seaborn as sns\n",
    "import matplotlib.pyplot as plt\n",
    "from matplotlib import cm\n",
    "from matplotlib import axes\n",
    "import pylab\n",
    "from matplotlib.pyplot import rc_context\n",
    "import os\n",
    "import warnings\n",
    "import matplotlib.pyplot as plt\n",
    "import matplotlib as mpl\n",
    "import episcanpy as epi\n",
    "from cycler import cycler\n",
    "\n",
    "warnings.filterwarnings(\"ignore\")\n"
   ]
  },
  {
   "cell_type": "markdown",
   "metadata": {},
   "source": [
    "## preprocessing data"
   ]
  },
  {
   "cell_type": "markdown",
   "metadata": {},
   "source": [
    "GWAS SNP data format:\n",
    "\n",
    "chr pos rsids pval\n",
    "\n",
    "chr1    14773   rs878915777 0.13\n",
    "\n",
    "\n",
    "\n",
    "==============\n",
    "\n",
    "Peak data format:\n",
    "\n",
    "gene chr start end\n",
    "\n",
    "TTLL10  chr1    826700\t827679"
   ]
  },
  {
   "cell_type": "code",
   "execution_count": null,
   "metadata": {},
   "outputs": [],
   "source": [
    "#GWAS data\n",
    "snp_list=scv.read_gwas('~/data/SCZ.txt')\n",
    "                \n",
    "#peak data ( Co-accessibility networks )\n",
    "peak_list=scv.load_peak_data('~/data/atac_cis_coacess.txt')"
   ]
  },
  {
   "cell_type": "markdown",
   "metadata": {},
   "source": [
    "Find the snp-peak overlap (Take times if data is large)\n",
    "\n",
    "!! ATTENTION [choose the right reference genome]\n",
    "\n",
    "check gencode webset for annotation version ( for now v43 for hg19 v44 for hg38)"
   ]
  },
  {
   "cell_type": "code",
   "execution_count": null,
   "metadata": {},
   "outputs": [],
   "source": [
    "#overlp SNPs and peaks \n",
    "overlap_matrix = scv.snp_peak(peak_list,snp_list)\n",
    "#find snp inside the gene body (load the annotatio file from the original magma pipline)\n",
    "magma = scv.dmagma('~/data/magma0.genes.annot')\n",
    "#get gene coordinates\n",
    "corr = scv.gene_corr('~/data/gencode.v44.annotation.gff3.gz',peak_list)"
   ]
  },
  {
   "cell_type": "markdown",
   "metadata": {},
   "source": [
    "## Get peak-snp-gene annotation"
   ]
  },
  {
   "cell_type": "code",
   "execution_count": null,
   "metadata": {},
   "outputs": [],
   "source": [
    "#SCZ as example\n",
    "anno=scv.annotate(overlap_matrix,corr,magma,'Schizophrenia.')"
   ]
  },
  {
   "cell_type": "markdown",
   "metadata": {},
   "source": [
    "## Now you get the Peak-SNP-Gene annotation \n",
    "\n",
    "The annotation file saved to your working directory with filename like Schizophrenia.cmagma.genes.annot"
   ]
  },
  {
   "cell_type": "markdown",
   "metadata": {},
   "source": [
    "Gene Analysis"
   ]
  },
  {
   "cell_type": "code",
   "execution_count": null,
   "metadata": {},
   "outputs": [],
   "source": [
    "#Gene analysis\n",
    "#choose the 1000 genome reference panel map your GWAS data\n",
    "!magma\\\n",
    "    --bfile /g1000_eur/g1000_eur \\                     \n",
    "    --pval scz.txt use='rsids,pval' N=328748 \\\n",
    "    --gene-annot /Schizophrenia.cmagma.genes.annot \\                                                   \n",
    "    --out /output/cmagma\n"
   ]
  },
  {
   "cell_type": "markdown",
   "metadata": {},
   "source": [
    "Gene set Analysis"
   ]
  },
  {
   "cell_type": "code",
   "execution_count": null,
   "metadata": {},
   "outputs": [],
   "source": [
    "#Gene set analysis\n",
    "#any gene set you are interested in by change the set-annot setting (c5 c8 or wiki etc.)\n",
    "!magma \\\n",
    "    --gene-results Schizophrenia.cmagma.genes.raw\\\n",
    "    --set-annot /GSVA/c5.go.bp.v7.5.entrez.gmt \\ \n",
    "    --out /cmagma_GSVA"
   ]
  },
  {
   "cell_type": "markdown",
   "metadata": {},
   "source": [
    "## Cell Scoring\n",
    "\n",
    "Identify disease association cell types using single cell ATAC-seq data"
   ]
  },
  {
   "cell_type": "code",
   "execution_count": null,
   "metadata": {},
   "outputs": [],
   "source": [
    "#load scATAC-seq data\n",
    "adata = sc.read_h5ad('~/atac.h5ad')"
   ]
  },
  {
   "cell_type": "code",
   "execution_count": null,
   "metadata": {},
   "outputs": [],
   "source": [
    "#calculate  disease for each cells\n",
    "#Take time to run \n",
    "df_score=scv.scads_atac(adata,overlap_matrix,'~/output/cmagma.genes.out','Schizophrenia')"
   ]
  },
  {
   "cell_type": "markdown",
   "metadata": {},
   "source": [
    "You can  add each cells score into adata.obs for any downstream analysis\n",
    "\n",
    "eg:\n",
    "\n",
    "adata.obs['Schizophrenia'] = df_score['Schizophrenia']['norm_score']"
   ]
  },
  {
   "cell_type": "code",
   "execution_count": null,
   "metadata": {},
   "outputs": [],
   "source": [
    "#statistical analysis \n",
    "df_group=scv.stat_analysis(\n",
    "    adata=adata,\n",
    "    df_full_score=df_score[\"Schizophrenia\"],\n",
    "    group_cols=[\"celltype\"])\n",
    "\n",
    "for key, df in df_group.items():\n",
    "    #add key to filename\n",
    "    df.to_csv(f\"{key}_scv_group.celltype\", sep=\"\\t\", index_col=0)"
   ]
  },
  {
   "cell_type": "code",
   "execution_count": 6,
   "metadata": {},
   "outputs": [
    {
     "data": {
      "image/png": "[encoded data removed]",
      "text/plain": [
       "<Figure size 900x900 with 2 Axes>"
      ]
     },
     "metadata": {},
     "output_type": "display_data"
    }
   ],
   "source": [
    "dict_GP_stats = {\n",
    "    'SCZ': pd.read_csv(f\"~/SCZ.scv_group.celltype\", sep=\"\\t\", index_col=0)\n",
    "}\n",
    "scv.plot_group_stats(dict_GP_stats)\n"
   ]
  },
  {
   "cell_type": "code",
   "execution_count": null,
   "metadata": {},
   "outputs": [],
   "source": []
  }
 ],
 "metadata": {
  "kernelspec": {
   "display_name": "Bio",
   "language": "python",
   "name": "python3"
  },
  "language_info": {
   "codemirror_mode": {
    "name": "ipython",
    "version": 3
   },
   "file_extension": ".py",
   "mimetype": "text/x-python",
   "name": "python",
   "nbconvert_exporter": "python",
   "pygments_lexer": "ipython3",
   "version": "3.11.3"
  }
 },
 "nbformat": 4,
 "nbformat_minor": 2
}
